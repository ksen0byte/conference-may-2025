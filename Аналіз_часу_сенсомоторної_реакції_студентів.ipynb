{
  "nbformat": 4,
  "nbformat_minor": 0,
  "metadata": {
    "colab": {
      "provenance": [],
      "authorship_tag": "ABX9TyOTE3BKSEjAdw8yV5i+u1fX",
      "include_colab_link": true
    },
    "kernelspec": {
      "name": "python3",
      "display_name": "Python 3"
    },
    "language_info": {
      "name": "python"
    }
  },
  "cells": [
    {
      "cell_type": "markdown",
      "metadata": {
        "id": "view-in-github",
        "colab_type": "text"
      },
      "source": [
        "<a href=\"https://colab.research.google.com/github/ksen0byte/conference-may-2025/blob/main/%D0%90%D0%BD%D0%B0%D0%BB%D1%96%D0%B7_%D1%87%D0%B0%D1%81%D1%83_%D1%81%D0%B5%D0%BD%D1%81%D0%BE%D0%BC%D0%BE%D1%82%D0%BE%D1%80%D0%BD%D0%BE%D1%97_%D1%80%D0%B5%D0%B0%D0%BA%D1%86%D1%96%D1%97_%D1%81%D1%82%D1%83%D0%B4%D0%B5%D0%BD%D1%82%D1%96%D0%B2.ipynb\" target=\"_parent\"><img src=\"https://colab.research.google.com/assets/colab-badge.svg\" alt=\"Open In Colab\"/></a>"
      ]
    },
    {
      "cell_type": "markdown",
      "source": [
        "# 📒 Аналіз часу сенсомоторної реакції студентів\n",
        "*Демонстраційний приклад для конференції*\n",
        "\n",
        "##📘Опис\n",
        "У цьому ноутбуці представлено приклад аналізу симульованих даних простої сенсомоторної реакції (ПСМР) у двох груп студентів (A і B) віком 18–25 років.\n",
        "Дані аналізуються засобами Python у середовищі Google Colab. Формули оформлено у LaTeX, візуалізація здійснюється через matplotlib."
      ],
      "metadata": {
        "id": "HJQPZHaCVR0O"
      }
    },
    {
      "cell_type": "markdown",
      "source": [
        "## 📦 Імпорт бібліотек"
      ],
      "metadata": {
        "id": "dxnbud-sf4St"
      }
    },
    {
      "cell_type": "code",
      "execution_count": 25,
      "metadata": {
        "id": "EvJO_K1R1S_R"
      },
      "outputs": [],
      "source": [
        "# Імпорт необхідних бібліотек\n",
        "import numpy as np                    # для роботи з масивами та генерації випадкових чисел\n",
        "import pandas as pd                   # для обробки табличних даних (DataFrame)\n",
        "import matplotlib.pyplot as plt       # для побудови графіків (лінії, стовпці тощо)\n",
        "import seaborn as sns                 # для красивих статистичних графіків\n",
        "from scipy import stats               # для статистичних розрахунків (t-тести, нормальність тощо)\n",
        "from google.colab import data_table   # для інтерактивних таблиць у Google Colab\n",
        "\n",
        "# Увімкнення інтерактивного формату таблиць\n",
        "data_table.enable_dataframe_formatter()\n"
      ]
    },
    {
      "cell_type": "markdown",
      "source": [
        "## 🎲 Генерація даних\n",
        "\n",
        "Ми моделюємо реакції учасників як **випадкові величини**, що мають **нормальний розподіл**:\n",
        "$$ x \\sim \\mathcal{N}(\\mu, \\sigma^2) $$\n",
        "\n",
        "де:\n",
        "- $\\mu$ — середній (типовий) час реакції в мілісекундах,\n",
        "- $\\sigma$ — стандартне відхилення (розкид),\n",
        "- $x$ — окрема реакція.\n",
        "\n",
        "Для кожної групи ми генеруємо `n` реакцій згідно з заданими параметрами.\n"
      ],
      "metadata": {
        "id": "yz3uu74mf0PS"
      }
    },
    {
      "cell_type": "code",
      "source": [
        "# @title 🔧 Параметри генерації дани\n",
        "seed = 42  # @param {type:\"integer\"}\n",
        "\n",
        "# Група A\n",
        "mean_A = 245 # @param {\"type\":\"number\"}\n",
        "std_A = 15  # @param {type:\"number\"}\n",
        "n_A = 50 # @param {\"type\":\"slider\",\"min\":30,\"max\":100,\"step\":10}\n",
        "\n",
        "# Група B\n",
        "mean_B = 260  # @param {type:\"number\"}\n",
        "std_B = 35  # @param {type:\"number\"}\n",
        "n_B = 50  # @param {\"type\":\"slider\",\"min\":30,\"max\":100,\"step\":10}\n",
        "\n",
        "# Генерація\n",
        "np.random.seed(seed)\n",
        "group_A = np.random.normal(loc=mean_A, scale=std_A, size=n_A)\n",
        "group_B = np.random.normal(loc=mean_B, scale=std_B, size=n_B)\n",
        "\n",
        "df = pd.DataFrame({\n",
        "    'reaction_time': np.concatenate([group_A, group_B]),\n",
        "    'group': ['A'] * n_A + ['B'] * n_B\n",
        "})\n",
        "\n",
        "data_table.DataTable(df, include_index=False, num_rows_per_page=10)\n"
      ],
      "metadata": {
        "colab": {
          "base_uri": "https://localhost:8080/",
          "height": 344
        },
        "collapsed": true,
        "id": "uK6kT1_FV2-T",
        "outputId": "33e57bdb-4aad-4a9c-a998-aa00c2d63563"
      },
      "execution_count": 26,
      "outputs": [
        {
          "output_type": "execute_result",
          "data": {
            "text/html": [
              "<div>\n",
              "<style scoped>\n",
              "    .dataframe tbody tr th:only-of-type {\n",
              "        vertical-align: middle;\n",
              "    }\n",
              "\n",
              "    .dataframe tbody tr th {\n",
              "        vertical-align: top;\n",
              "    }\n",
              "\n",
              "    .dataframe thead th {\n",
              "        text-align: right;\n",
              "    }\n",
              "</style>\n",
              "<table border=\"1\" class=\"dataframe\">\n",
              "  <thead>\n",
              "    <tr style=\"text-align: right;\">\n",
              "      <th></th>\n",
              "      <th>reaction_time</th>\n",
              "      <th>group</th>\n",
              "    </tr>\n",
              "  </thead>\n",
              "  <tbody>\n",
              "    <tr>\n",
              "      <th>0</th>\n",
              "      <td>252.450712</td>\n",
              "      <td>A</td>\n",
              "    </tr>\n",
              "    <tr>\n",
              "      <th>1</th>\n",
              "      <td>242.926035</td>\n",
              "      <td>A</td>\n",
              "    </tr>\n",
              "    <tr>\n",
              "      <th>2</th>\n",
              "      <td>254.715328</td>\n",
              "      <td>A</td>\n",
              "    </tr>\n",
              "    <tr>\n",
              "      <th>3</th>\n",
              "      <td>267.845448</td>\n",
              "      <td>A</td>\n",
              "    </tr>\n",
              "    <tr>\n",
              "      <th>4</th>\n",
              "      <td>241.487699</td>\n",
              "      <td>A</td>\n",
              "    </tr>\n",
              "    <tr>\n",
              "      <th>...</th>\n",
              "      <td>...</td>\n",
              "      <td>...</td>\n",
              "    </tr>\n",
              "    <tr>\n",
              "      <th>95</th>\n",
              "      <td>208.776977</td>\n",
              "      <td>B</td>\n",
              "    </tr>\n",
              "    <tr>\n",
              "      <th>96</th>\n",
              "      <td>270.364210</td>\n",
              "      <td>B</td>\n",
              "    </tr>\n",
              "    <tr>\n",
              "      <th>97</th>\n",
              "      <td>269.136935</td>\n",
              "      <td>B</td>\n",
              "    </tr>\n",
              "    <tr>\n",
              "      <th>98</th>\n",
              "      <td>260.178971</td>\n",
              "      <td>B</td>\n",
              "    </tr>\n",
              "    <tr>\n",
              "      <th>99</th>\n",
              "      <td>251.789450</td>\n",
              "      <td>B</td>\n",
              "    </tr>\n",
              "  </tbody>\n",
              "</table>\n",
              "<p>100 rows × 2 columns</p>\n",
              "</div>"
            ],
            "application/vnd.google.colaboratory.module+javascript": "\n      import \"https://ssl.gstatic.com/colaboratory/data_table/e523c247d1e24a05/data_table.js\";\n\n      const table = window.createDataTable({\n        data: [[{\n            'v': 252.4507122951685,\n            'f': \"252.4507122951685\",\n        },\n\"A\"],\n [{\n            'v': 242.92603548243224,\n            'f': \"242.92603548243224\",\n        },\n\"A\"],\n [{\n            'v': 254.71532807151038,\n            'f': \"254.71532807151038\",\n        },\n\"A\"],\n [{\n            'v': 267.84544784612035,\n            'f': \"267.84544784612035\",\n        },\n\"A\"],\n [{\n            'v': 241.48769937914997,\n            'f': \"241.48769937914997\",\n        },\n\"A\"],\n [{\n            'v': 241.4879456457623,\n            'f': \"241.4879456457623\",\n        },\n\"A\"],\n [{\n            'v': 268.68819223261085,\n            'f': \"268.68819223261085\",\n        },\n\"A\"],\n [{\n            'v': 256.51152093729365,\n            'f': \"256.51152093729365\",\n        },\n\"A\"],\n [{\n            'v': 237.95788421097572,\n            'f': \"237.95788421097572\",\n        },\n\"A\"],\n [{\n            'v': 253.13840065378946,\n            'f': \"253.13840065378946\",\n        },\n\"A\"],\n [{\n            'v': 238.04873460781306,\n            'f': \"238.04873460781306\",\n        },\n\"A\"],\n [{\n            'v': 238.01405369644615,\n            'f': \"238.01405369644615\",\n        },\n\"A\"],\n [{\n            'v': 248.6294340734905,\n            'f': \"248.6294340734905\",\n        },\n\"A\"],\n [{\n            'v': 216.30079633013304,\n            'f': \"216.30079633013304\",\n        },\n\"A\"],\n [{\n            'v': 219.1262325123045,\n            'f': \"219.1262325123045\",\n        },\n\"A\"],\n [{\n            'v': 236.5656870613854,\n            'f': \"236.5656870613854\",\n        },\n\"A\"],\n [{\n            'v': 229.80753319498365,\n            'f': \"229.80753319498365\",\n        },\n\"A\"],\n [{\n            'v': 249.7137099889291,\n            'f': \"249.7137099889291\",\n        },\n\"A\"],\n [{\n            'v': 231.37963886718182,\n            'f': \"231.37963886718182\",\n        },\n\"A\"],\n [{\n            'v': 223.81544447997064,\n            'f': \"223.81544447997064\",\n        },\n\"A\"],\n [{\n            'v': 266.9847315338233,\n            'f': \"266.9847315338233\",\n        },\n\"A\"],\n [{\n            'v': 241.61335549270197,\n            'f': \"241.61335549270197\",\n        },\n\"A\"],\n [{\n            'v': 246.01292307031886,\n            'f': \"246.01292307031886\",\n        },\n\"A\"],\n [{\n            'v': 223.62877720679813,\n            'f': \"223.62877720679813\",\n        },\n\"A\"],\n [{\n            'v': 236.83425913212227,\n            'f': \"236.83425913212227\",\n        },\n\"A\"],\n [{\n            'v': 246.663838845648,\n            'f': \"246.663838845648\",\n        },\n\"A\"],\n [{\n            'v': 227.73509633866547,\n            'f': \"227.73509633866547\",\n        },\n\"A\"],\n [{\n            'v': 250.63547027518507,\n            'f': \"250.63547027518507\",\n        },\n\"A\"],\n [{\n            'v': 235.99041965121793,\n            'f': \"235.99041965121793\",\n        },\n\"A\"],\n [{\n            'v': 240.62459375310084,\n            'f': \"240.62459375310084\",\n        },\n\"A\"],\n [{\n            'v': 235.97440081655904,\n            'f': \"235.97440081655904\",\n        },\n\"A\"],\n [{\n            'v': 272.78417276763406,\n            'f': \"272.78417276763406\",\n        },\n\"A\"],\n [{\n            'v': 244.797541628931,\n            'f': \"244.797541628931\",\n        },\n\"A\"],\n [{\n            'v': 229.1343360656615,\n            'f': \"229.1343360656615\",\n        },\n\"A\"],\n [{\n            'v': 257.33817368154786,\n            'f': \"257.33817368154786\",\n        },\n\"A\"],\n [{\n            'v': 226.68734525043467,\n            'f': \"226.68734525043467\",\n        },\n\"A\"],\n [{\n            'v': 248.13295392507132,\n            'f': \"248.13295392507132\",\n        },\n\"A\"],\n [{\n            'v': 215.60494814180336,\n            'f': \"215.60494814180336\",\n        },\n\"A\"],\n [{\n            'v': 225.07720926652354,\n            'f': \"225.07720926652354\",\n        },\n\"A\"],\n [{\n            'v': 247.95291853803684,\n            'f': \"247.95291853803684\",\n        },\n\"A\"],\n [{\n            'v': 256.07699869993115,\n            'f': \"256.07699869993115\",\n        },\n\"A\"],\n [{\n            'v': 247.57052421784957,\n            'f': \"247.57052421784957\",\n        },\n\"A\"],\n [{\n            'v': 243.26527576417638,\n            'f': \"243.26527576417638\",\n        },\n\"A\"],\n [{\n            'v': 240.48344456616067,\n            'f': \"240.48344456616067\",\n        },\n\"A\"],\n [{\n            'v': 222.82217014448858,\n            'f': \"222.82217014448858\",\n        },\n\"A\"],\n [{\n            'v': 234.20233687407938,\n            'f': \"234.20233687407938\",\n        },\n\"A\"],\n [{\n            'v': 238.0904184356032,\n            'f': \"238.0904184356032\",\n        },\n\"A\"],\n [{\n            'v': 260.85683339328375,\n            'f': \"260.85683339328375\",\n        },\n\"A\"],\n [{\n            'v': 250.15427434352694,\n            'f': \"250.15427434352694\",\n        },\n\"A\"],\n [{\n            'v': 218.554397669559,\n            'f': \"218.554397669559\",\n        },\n\"A\"],\n [{\n            'v': 271.34293892881783,\n            'f': \"271.34293892881783\",\n        },\n\"B\"],\n [{\n            'v': 246.52212018542892,\n            'f': \"246.52212018542892\",\n        },\n\"B\"],\n [{\n            'v': 236.30772998929143,\n            'f': \"236.30772998929143\",\n        },\n\"B\"],\n [{\n            'v': 281.4086701094304,\n            'f': \"281.4086701094304\",\n        },\n\"B\"],\n [{\n            'v': 296.0849832873583,\n            'f': \"296.0849832873583\",\n        },\n\"B\"],\n [{\n            'v': 292.59480416906695,\n            'f': \"292.59480416906695\",\n        },\n\"B\"],\n [{\n            'v': 230.62738668720766,\n            'f': \"230.62738668720766\",\n        },\n\"B\"],\n [{\n            'v': 249.17756684520748,\n            'f': \"249.17756684520748\",\n        },\n\"B\"],\n [{\n            'v': 271.59422009912475,\n            'f': \"271.59422009912475\",\n        },\n\"B\"],\n [{\n            'v': 294.1440794492826,\n            'f': \"294.1440794492826\",\n        },\n\"B\"],\n [{\n            'v': 243.22890167541485,\n            'f': \"243.22890167541485\",\n        },\n\"B\"],\n [{\n            'v': 253.5019358167664,\n            'f': \"253.5019358167664\",\n        },\n\"B\"],\n [{\n            'v': 221.27827590978902,\n            'f': \"221.27827590978902\",\n        },\n\"B\"],\n [{\n            'v': 218.1327681571765,\n            'f': \"218.1327681571765\",\n        },\n\"B\"],\n [{\n            'v': 288.43840378379696,\n            'f': \"288.43840378379696\",\n        },\n\"B\"],\n [{\n            'v': 307.4684009999788,\n            'f': \"307.4684009999788\",\n        },\n\"B\"],\n [{\n            'v': 257.4796457446883,\n            'f': \"257.4796457446883\",\n        },\n\"B\"],\n [{\n            'v': 295.1236514262208,\n            'f': \"295.1236514262208\",\n        },\n\"B\"],\n [{\n            'v': 272.6572608766672,\n            'f': \"272.6572608766672\",\n        },\n\"B\"],\n [{\n            'v': 237.42080858882065,\n            'f': \"237.42080858882065\",\n        },\n\"B\"],\n [{\n            'v': 272.6488461927945,\n            'f': \"272.6488461927945\",\n        },\n\"B\"],\n [{\n            'v': 313.8312798263089,\n            'f': \"313.8312798263089\",\n        },\n\"B\"],\n [{\n            'v': 258.7460886311517,\n            'f': \"258.7460886311517\",\n        },\n\"B\"],\n [{\n            'v': 314.76252795349023,\n            'f': \"314.76252795349023\",\n        },\n\"B\"],\n [{\n            'v': 168.30892135685895,\n            'f': \"168.30892135685895\",\n        },\n\"B\"],\n [{\n            'v': 288.76658765313283,\n            'f': \"288.76658765313283\",\n        },\n\"B\"],\n [{\n            'v': 263.046647388336,\n            'f': \"263.046647388336\",\n        },\n\"B\"],\n [{\n            'v': 249.53474273369463,\n            'f': \"249.53474273369463\",\n        },\n\"B\"],\n [{\n            'v': 263.21162717874256,\n            'f': \"263.21162717874256\",\n        },\n\"B\"],\n [{\n            'v': 190.43508798896875,\n            'f': \"190.43508798896875\",\n        },\n\"B\"],\n [{\n            'v': 252.31148392568707,\n            'f': \"252.31148392568707\",\n        },\n\"B\"],\n [{\n            'v': 272.4989400029111,\n            'f': \"272.4989400029111\",\n        },\n\"B\"],\n [{\n            'v': 311.72629156595303,\n            'f': \"311.72629156595303\",\n        },\n\"B\"],\n [{\n            'v': 241.86054236042236,\n            'f': \"241.86054236042236\",\n        },\n\"B\"],\n [{\n            'v': 231.70272389873844,\n            'f': \"231.70272389873844\",\n        },\n\"B\"],\n [{\n            'v': 242.43850347454122,\n            'f': \"242.43850347454122\",\n        },\n\"B\"],\n [{\n            'v': 292.0390741195726,\n            'f': \"292.0390741195726\",\n        },\n\"B\"],\n [{\n            'v': 271.50628883808895,\n            'f': \"271.50628883808895\",\n        },\n\"B\"],\n [{\n            'v': 241.45839286815365,\n            'f': \"241.45839286815365\",\n        },\n\"B\"],\n [{\n            'v': 277.96436015896745,\n            'f': \"277.96436015896745\",\n        },\n\"B\"],\n [{\n            'v': 263.39771422718144,\n            'f': \"263.39771422718144\",\n        },\n\"B\"],\n [{\n            'v': 293.90257466865114,\n            'f': \"293.90257466865114\",\n        },\n\"B\"],\n [{\n            'v': 235.42814171429268,\n            'f': \"235.42814171429268\",\n        },\n\"B\"],\n [{\n            'v': 248.53182486907812,\n            'f': \"248.53182486907812\",\n        },\n\"B\"],\n [{\n            'v': 246.2762146403745,\n            'f': \"246.2762146403745\",\n        },\n\"B\"],\n [{\n            'v': 208.77697681537586,\n            'f': \"208.77697681537586\",\n        },\n\"B\"],\n [{\n            'v': 270.36420969726015,\n            'f': \"270.36420969726015\",\n        },\n\"B\"],\n [{\n            'v': 269.1369345262961,\n            'f': \"269.1369345262961\",\n        },\n\"B\"],\n [{\n            'v': 260.17897098248613,\n            'f': \"260.17897098248613\",\n        },\n\"B\"],\n [{\n            'v': 251.78945033186986,\n            'f': \"251.78945033186986\",\n        },\n\"B\"]],\n        columns: [[\"number\", \"reaction_time\"], [\"string\", \"group\"]],\n        columnOptions: [],\n        rowsPerPage: 10,\n        helpUrl: \"https://colab.research.google.com/notebooks/data_table.ipynb\",\n        suppressOutputScrolling: true,\n        minimumWidth: undefined,\n      });\n\n      function appendQuickchartButton(parentElement) {\n        let quickchartButtonContainerElement = document.createElement('div');\n        quickchartButtonContainerElement.innerHTML = `\n<div id=\"df-2b3a5846-61be-4f1a-b7a7-1cc8b4129b35\">\n  <button class=\"colab-df-quickchart\" onclick=\"quickchart('df-2b3a5846-61be-4f1a-b7a7-1cc8b4129b35')\"\n            title=\"Suggest charts\"\n            style=\"display:none;\">\n    \n<svg xmlns=\"http://www.w3.org/2000/svg\" height=\"24px\"viewBox=\"0 0 24 24\"\n     width=\"24px\">\n    <g>\n        <path d=\"M19 3H5c-1.1 0-2 .9-2 2v14c0 1.1.9 2 2 2h14c1.1 0 2-.9 2-2V5c0-1.1-.9-2-2-2zM9 17H7v-7h2v7zm4 0h-2V7h2v10zm4 0h-2v-4h2v4z\"/>\n    </g>\n</svg>\n  </button>\n  \n<style>\n  .colab-df-quickchart {\n      --bg-color: #E8F0FE;\n      --fill-color: #1967D2;\n      --hover-bg-color: #E2EBFA;\n      --hover-fill-color: #174EA6;\n      --disabled-fill-color: #AAA;\n      --disabled-bg-color: #DDD;\n  }\n\n  [theme=dark] .colab-df-quickchart {\n      --bg-color: #3B4455;\n      --fill-color: #D2E3FC;\n      --hover-bg-color: #434B5C;\n      --hover-fill-color: #FFFFFF;\n      --disabled-bg-color: #3B4455;\n      --disabled-fill-color: #666;\n  }\n\n  .colab-df-quickchart {\n    background-color: var(--bg-color);\n    border: none;\n    border-radius: 50%;\n    cursor: pointer;\n    display: none;\n    fill: var(--fill-color);\n    height: 32px;\n    padding: 0;\n    width: 32px;\n  }\n\n  .colab-df-quickchart:hover {\n    background-color: var(--hover-bg-color);\n    box-shadow: 0 1px 2px rgba(60, 64, 67, 0.3), 0 1px 3px 1px rgba(60, 64, 67, 0.15);\n    fill: var(--button-hover-fill-color);\n  }\n\n  .colab-df-quickchart-complete:disabled,\n  .colab-df-quickchart-complete:disabled:hover {\n    background-color: var(--disabled-bg-color);\n    fill: var(--disabled-fill-color);\n    box-shadow: none;\n  }\n\n  .colab-df-spinner {\n    border: 2px solid var(--fill-color);\n    border-color: transparent;\n    border-bottom-color: var(--fill-color);\n    animation:\n      spin 1s steps(1) infinite;\n  }\n\n  @keyframes spin {\n    0% {\n      border-color: transparent;\n      border-bottom-color: var(--fill-color);\n      border-left-color: var(--fill-color);\n    }\n    20% {\n      border-color: transparent;\n      border-left-color: var(--fill-color);\n      border-top-color: var(--fill-color);\n    }\n    30% {\n      border-color: transparent;\n      border-left-color: var(--fill-color);\n      border-top-color: var(--fill-color);\n      border-right-color: var(--fill-color);\n    }\n    40% {\n      border-color: transparent;\n      border-right-color: var(--fill-color);\n      border-top-color: var(--fill-color);\n    }\n    60% {\n      border-color: transparent;\n      border-right-color: var(--fill-color);\n    }\n    80% {\n      border-color: transparent;\n      border-right-color: var(--fill-color);\n      border-bottom-color: var(--fill-color);\n    }\n    90% {\n      border-color: transparent;\n      border-bottom-color: var(--fill-color);\n    }\n  }\n</style>\n\n  <script>\n    async function quickchart(key) {\n      const quickchartButtonEl =\n        document.querySelector('#' + key + ' button');\n      quickchartButtonEl.disabled = true;  // To prevent multiple clicks.\n      quickchartButtonEl.classList.add('colab-df-spinner');\n      try {\n        const charts = await google.colab.kernel.invokeFunction(\n            'suggestCharts', [key], {});\n      } catch (error) {\n        console.error('Error during call to suggestCharts:', error);\n      }\n      quickchartButtonEl.classList.remove('colab-df-spinner');\n      quickchartButtonEl.classList.add('colab-df-quickchart-complete');\n    }\n    (() => {\n      let quickchartButtonEl =\n        document.querySelector('#df-2b3a5846-61be-4f1a-b7a7-1cc8b4129b35 button');\n      quickchartButtonEl.style.display =\n        google.colab.kernel.accessAllowed ? 'block' : 'none';\n    })();\n  </script>\n</div>`;\n        parentElement.appendChild(quickchartButtonContainerElement);\n      }\n\n      appendQuickchartButton(table);\n    ",
            "text/plain": [
              "<google.colab.data_table.DataTable object>"
            ]
          },
          "metadata": {},
          "execution_count": 26
        }
      ]
    },
    {
      "cell_type": "markdown",
      "source": [
        "## 🧠 Психофізіологічні характеристики часу реакції\n",
        "\n",
        "Оцінка часу простої сенсомоторної реакції допомагає визначити функціональний стан нервової системи. Нижче наведено ключові показники:\n",
        "\n",
        "1. **Середнє (mean)** — типовий час реакції у групі:\n",
        "   $$ \\bar{x} = \\frac{1}{n} \\sum_{i=1}^{n} x_i $$\n",
        "\n",
        "2. **Медіана (median)** — центральне значення у впорядкованому ряді:\n",
        "   > Менш чутлива до аномальних значень (викидів), ніж середнє.\n",
        "\n",
        "3. **Стандартне відхилення (std)** — розкид значень навколо середнього:\n",
        "   $$ s = \\sqrt{ \\frac{1}{n-1} \\sum_{i=1}^{n}(x_i - \\bar{x})^2 } $$\n",
        "   > Високе значення вказує на нестабільну або збуджену ЦНС.\n",
        "\n",
        "4. **Коефіцієнт варіації (CV)** — відносна варіабельність у %:\n",
        "   $$ CV = \\frac{s}{\\bar{x}} \\times 100\\% $$\n",
        "   > CV < 10% — ознака однорідної групи.\n",
        "\n",
        "\n"
      ],
      "metadata": {
        "id": "t5jERFvLcWHz"
      }
    },
    {
      "cell_type": "code",
      "source": [
        "summary = df.groupby('group')['reaction_time'].agg(['mean', 'median', 'std'])\n",
        "summary['cv (%)'] = (summary['std'] / summary['mean']) * 100\n",
        "summary\n"
      ],
      "metadata": {
        "id": "P94qhhpCWsyN",
        "colab": {
          "base_uri": "https://localhost:8080/",
          "height": 163
        },
        "outputId": "af9ea7a9-e608-4f10-ecf6-d99e4410b7f6"
      },
      "execution_count": 27,
      "outputs": [
        {
          "output_type": "execute_result",
          "data": {
            "text/plain": [
              "             mean      median        std     cv (%)\n",
              "group                                              \n",
              "A      241.617891  241.487823  14.005032   5.796355\n",
              "B      260.622330  261.612809  30.601375  11.741655"
            ],
            "text/html": [
              "\n",
              "  <div id=\"df-bff73d82-b1a4-4de5-8855-780dd9508edc\" class=\"colab-df-container\">\n",
              "    <div>\n",
              "<style scoped>\n",
              "    .dataframe tbody tr th:only-of-type {\n",
              "        vertical-align: middle;\n",
              "    }\n",
              "\n",
              "    .dataframe tbody tr th {\n",
              "        vertical-align: top;\n",
              "    }\n",
              "\n",
              "    .dataframe thead th {\n",
              "        text-align: right;\n",
              "    }\n",
              "</style>\n",
              "<table border=\"1\" class=\"dataframe\">\n",
              "  <thead>\n",
              "    <tr style=\"text-align: right;\">\n",
              "      <th></th>\n",
              "      <th>mean</th>\n",
              "      <th>median</th>\n",
              "      <th>std</th>\n",
              "      <th>cv (%)</th>\n",
              "    </tr>\n",
              "    <tr>\n",
              "      <th>group</th>\n",
              "      <th></th>\n",
              "      <th></th>\n",
              "      <th></th>\n",
              "      <th></th>\n",
              "    </tr>\n",
              "  </thead>\n",
              "  <tbody>\n",
              "    <tr>\n",
              "      <th>A</th>\n",
              "      <td>241.617891</td>\n",
              "      <td>241.487823</td>\n",
              "      <td>14.005032</td>\n",
              "      <td>5.796355</td>\n",
              "    </tr>\n",
              "    <tr>\n",
              "      <th>B</th>\n",
              "      <td>260.622330</td>\n",
              "      <td>261.612809</td>\n",
              "      <td>30.601375</td>\n",
              "      <td>11.741655</td>\n",
              "    </tr>\n",
              "  </tbody>\n",
              "</table>\n",
              "</div>\n",
              "    <div class=\"colab-df-buttons\">\n",
              "\n",
              "  <div class=\"colab-df-container\">\n",
              "    <button class=\"colab-df-convert\" onclick=\"convertToInteractive('df-bff73d82-b1a4-4de5-8855-780dd9508edc')\"\n",
              "            title=\"Convert this dataframe to an interactive table.\"\n",
              "            style=\"display:none;\">\n",
              "\n",
              "  <svg xmlns=\"http://www.w3.org/2000/svg\" height=\"24px\" viewBox=\"0 -960 960 960\">\n",
              "    <path d=\"M120-120v-720h720v720H120Zm60-500h600v-160H180v160Zm220 220h160v-160H400v160Zm0 220h160v-160H400v160ZM180-400h160v-160H180v160Zm440 0h160v-160H620v160ZM180-180h160v-160H180v160Zm440 0h160v-160H620v160Z\"/>\n",
              "  </svg>\n",
              "    </button>\n",
              "\n",
              "  <style>\n",
              "    .colab-df-container {\n",
              "      display:flex;\n",
              "      gap: 12px;\n",
              "    }\n",
              "\n",
              "    .colab-df-convert {\n",
              "      background-color: #E8F0FE;\n",
              "      border: none;\n",
              "      border-radius: 50%;\n",
              "      cursor: pointer;\n",
              "      display: none;\n",
              "      fill: #1967D2;\n",
              "      height: 32px;\n",
              "      padding: 0 0 0 0;\n",
              "      width: 32px;\n",
              "    }\n",
              "\n",
              "    .colab-df-convert:hover {\n",
              "      background-color: #E2EBFA;\n",
              "      box-shadow: 0px 1px 2px rgba(60, 64, 67, 0.3), 0px 1px 3px 1px rgba(60, 64, 67, 0.15);\n",
              "      fill: #174EA6;\n",
              "    }\n",
              "\n",
              "    .colab-df-buttons div {\n",
              "      margin-bottom: 4px;\n",
              "    }\n",
              "\n",
              "    [theme=dark] .colab-df-convert {\n",
              "      background-color: #3B4455;\n",
              "      fill: #D2E3FC;\n",
              "    }\n",
              "\n",
              "    [theme=dark] .colab-df-convert:hover {\n",
              "      background-color: #434B5C;\n",
              "      box-shadow: 0px 1px 3px 1px rgba(0, 0, 0, 0.15);\n",
              "      filter: drop-shadow(0px 1px 2px rgba(0, 0, 0, 0.3));\n",
              "      fill: #FFFFFF;\n",
              "    }\n",
              "  </style>\n",
              "\n",
              "    <script>\n",
              "      const buttonEl =\n",
              "        document.querySelector('#df-bff73d82-b1a4-4de5-8855-780dd9508edc button.colab-df-convert');\n",
              "      buttonEl.style.display =\n",
              "        google.colab.kernel.accessAllowed ? 'block' : 'none';\n",
              "\n",
              "      async function convertToInteractive(key) {\n",
              "        const element = document.querySelector('#df-bff73d82-b1a4-4de5-8855-780dd9508edc');\n",
              "        const dataTable =\n",
              "          await google.colab.kernel.invokeFunction('convertToInteractive',\n",
              "                                                    [key], {});\n",
              "        if (!dataTable) return;\n",
              "\n",
              "        const docLinkHtml = 'Like what you see? Visit the ' +\n",
              "          '<a target=\"_blank\" href=https://colab.research.google.com/notebooks/data_table.ipynb>data table notebook</a>'\n",
              "          + ' to learn more about interactive tables.';\n",
              "        element.innerHTML = '';\n",
              "        dataTable['output_type'] = 'display_data';\n",
              "        await google.colab.output.renderOutput(dataTable, element);\n",
              "        const docLink = document.createElement('div');\n",
              "        docLink.innerHTML = docLinkHtml;\n",
              "        element.appendChild(docLink);\n",
              "      }\n",
              "    </script>\n",
              "  </div>\n",
              "\n",
              "\n",
              "<div id=\"df-99261d84-9d5a-406c-8cc0-4002fcee24d5\">\n",
              "  <button class=\"colab-df-quickchart\" onclick=\"quickchart('df-99261d84-9d5a-406c-8cc0-4002fcee24d5')\"\n",
              "            title=\"Suggest charts\"\n",
              "            style=\"display:none;\">\n",
              "\n",
              "<svg xmlns=\"http://www.w3.org/2000/svg\" height=\"24px\"viewBox=\"0 0 24 24\"\n",
              "     width=\"24px\">\n",
              "    <g>\n",
              "        <path d=\"M19 3H5c-1.1 0-2 .9-2 2v14c0 1.1.9 2 2 2h14c1.1 0 2-.9 2-2V5c0-1.1-.9-2-2-2zM9 17H7v-7h2v7zm4 0h-2V7h2v10zm4 0h-2v-4h2v4z\"/>\n",
              "    </g>\n",
              "</svg>\n",
              "  </button>\n",
              "\n",
              "<style>\n",
              "  .colab-df-quickchart {\n",
              "      --bg-color: #E8F0FE;\n",
              "      --fill-color: #1967D2;\n",
              "      --hover-bg-color: #E2EBFA;\n",
              "      --hover-fill-color: #174EA6;\n",
              "      --disabled-fill-color: #AAA;\n",
              "      --disabled-bg-color: #DDD;\n",
              "  }\n",
              "\n",
              "  [theme=dark] .colab-df-quickchart {\n",
              "      --bg-color: #3B4455;\n",
              "      --fill-color: #D2E3FC;\n",
              "      --hover-bg-color: #434B5C;\n",
              "      --hover-fill-color: #FFFFFF;\n",
              "      --disabled-bg-color: #3B4455;\n",
              "      --disabled-fill-color: #666;\n",
              "  }\n",
              "\n",
              "  .colab-df-quickchart {\n",
              "    background-color: var(--bg-color);\n",
              "    border: none;\n",
              "    border-radius: 50%;\n",
              "    cursor: pointer;\n",
              "    display: none;\n",
              "    fill: var(--fill-color);\n",
              "    height: 32px;\n",
              "    padding: 0;\n",
              "    width: 32px;\n",
              "  }\n",
              "\n",
              "  .colab-df-quickchart:hover {\n",
              "    background-color: var(--hover-bg-color);\n",
              "    box-shadow: 0 1px 2px rgba(60, 64, 67, 0.3), 0 1px 3px 1px rgba(60, 64, 67, 0.15);\n",
              "    fill: var(--button-hover-fill-color);\n",
              "  }\n",
              "\n",
              "  .colab-df-quickchart-complete:disabled,\n",
              "  .colab-df-quickchart-complete:disabled:hover {\n",
              "    background-color: var(--disabled-bg-color);\n",
              "    fill: var(--disabled-fill-color);\n",
              "    box-shadow: none;\n",
              "  }\n",
              "\n",
              "  .colab-df-spinner {\n",
              "    border: 2px solid var(--fill-color);\n",
              "    border-color: transparent;\n",
              "    border-bottom-color: var(--fill-color);\n",
              "    animation:\n",
              "      spin 1s steps(1) infinite;\n",
              "  }\n",
              "\n",
              "  @keyframes spin {\n",
              "    0% {\n",
              "      border-color: transparent;\n",
              "      border-bottom-color: var(--fill-color);\n",
              "      border-left-color: var(--fill-color);\n",
              "    }\n",
              "    20% {\n",
              "      border-color: transparent;\n",
              "      border-left-color: var(--fill-color);\n",
              "      border-top-color: var(--fill-color);\n",
              "    }\n",
              "    30% {\n",
              "      border-color: transparent;\n",
              "      border-left-color: var(--fill-color);\n",
              "      border-top-color: var(--fill-color);\n",
              "      border-right-color: var(--fill-color);\n",
              "    }\n",
              "    40% {\n",
              "      border-color: transparent;\n",
              "      border-right-color: var(--fill-color);\n",
              "      border-top-color: var(--fill-color);\n",
              "    }\n",
              "    60% {\n",
              "      border-color: transparent;\n",
              "      border-right-color: var(--fill-color);\n",
              "    }\n",
              "    80% {\n",
              "      border-color: transparent;\n",
              "      border-right-color: var(--fill-color);\n",
              "      border-bottom-color: var(--fill-color);\n",
              "    }\n",
              "    90% {\n",
              "      border-color: transparent;\n",
              "      border-bottom-color: var(--fill-color);\n",
              "    }\n",
              "  }\n",
              "</style>\n",
              "\n",
              "  <script>\n",
              "    async function quickchart(key) {\n",
              "      const quickchartButtonEl =\n",
              "        document.querySelector('#' + key + ' button');\n",
              "      quickchartButtonEl.disabled = true;  // To prevent multiple clicks.\n",
              "      quickchartButtonEl.classList.add('colab-df-spinner');\n",
              "      try {\n",
              "        const charts = await google.colab.kernel.invokeFunction(\n",
              "            'suggestCharts', [key], {});\n",
              "      } catch (error) {\n",
              "        console.error('Error during call to suggestCharts:', error);\n",
              "      }\n",
              "      quickchartButtonEl.classList.remove('colab-df-spinner');\n",
              "      quickchartButtonEl.classList.add('colab-df-quickchart-complete');\n",
              "    }\n",
              "    (() => {\n",
              "      let quickchartButtonEl =\n",
              "        document.querySelector('#df-99261d84-9d5a-406c-8cc0-4002fcee24d5 button');\n",
              "      quickchartButtonEl.style.display =\n",
              "        google.colab.kernel.accessAllowed ? 'block' : 'none';\n",
              "    })();\n",
              "  </script>\n",
              "</div>\n",
              "    </div>\n",
              "  </div>\n"
            ],
            "application/vnd.google.colaboratory.intrinsic+json": {
              "type": "dataframe",
              "variable_name": "summary",
              "summary": "{\n  \"name\": \"summary\",\n  \"rows\": 2,\n  \"fields\": [\n    {\n      \"column\": \"group\",\n      \"properties\": {\n        \"dtype\": \"string\",\n        \"num_unique_values\": 2,\n        \"samples\": [\n          \"B\",\n          \"A\"\n        ],\n        \"semantic_type\": \"\",\n        \"description\": \"\"\n      }\n    },\n    {\n      \"column\": \"mean\",\n      \"properties\": {\n        \"dtype\": \"number\",\n        \"std\": 13.438167721521769,\n        \"min\": 241.6178914211579,\n        \"max\": 260.62233046637834,\n        \"num_unique_values\": 2,\n        \"samples\": [\n          260.62233046637834,\n          241.6178914211579\n        ],\n        \"semantic_type\": \"\",\n        \"description\": \"\"\n      }\n    },\n    {\n      \"column\": \"median\",\n      \"properties\": {\n        \"dtype\": \"number\",\n        \"std\": 14.230514547735298,\n        \"min\": 241.48782251245615,\n        \"max\": 261.61280918541104,\n        \"num_unique_values\": 2,\n        \"samples\": [\n          261.61280918541104,\n          241.48782251245615\n        ],\n        \"semantic_type\": \"\",\n        \"description\": \"\"\n      }\n    },\n    {\n      \"column\": \"std\",\n      \"properties\": {\n        \"dtype\": \"number\",\n        \"std\": 11.735386560449337,\n        \"min\": 14.005031728246674,\n        \"max\": 30.601374561725073,\n        \"num_unique_values\": 2,\n        \"samples\": [\n          30.601374561725073,\n          14.005031728246674\n        ],\n        \"semantic_type\": \"\",\n        \"description\": \"\"\n      }\n    },\n    {\n      \"column\": \"cv (%)\",\n      \"properties\": {\n        \"dtype\": \"number\",\n        \"std\": 4.203961563348804,\n        \"min\": 5.79635541303308,\n        \"max\": 11.741654871616158,\n        \"num_unique_values\": 2,\n        \"samples\": [\n          11.741654871616158,\n          5.79635541303308\n        ],\n        \"semantic_type\": \"\",\n        \"description\": \"\"\n      }\n    }\n  ]\n}"
            },
            "application/vnd.google.colaboratory.module+javascript": "\n      import \"https://ssl.gstatic.com/colaboratory/data_table/e523c247d1e24a05/data_table.js\";\n\n      const table = window.createDataTable({\n        data: [[\"A\",\n{\n            'v': 241.6178914211579,\n            'f': \"241.6178914211579\",\n        },\n{\n            'v': 241.48782251245615,\n            'f': \"241.48782251245615\",\n        },\n{\n            'v': 14.005031728246674,\n            'f': \"14.005031728246674\",\n        },\n{\n            'v': 5.79635541303308,\n            'f': \"5.79635541303308\",\n        }],\n [\"B\",\n{\n            'v': 260.62233046637834,\n            'f': \"260.62233046637834\",\n        },\n{\n            'v': 261.61280918541104,\n            'f': \"261.61280918541104\",\n        },\n{\n            'v': 30.601374561725073,\n            'f': \"30.601374561725073\",\n        },\n{\n            'v': 11.741654871616158,\n            'f': \"11.741654871616158\",\n        }]],\n        columns: [[\"string\", \"group\"], [\"number\", \"mean\"], [\"number\", \"median\"], [\"number\", \"std\"], [\"number\", \"cv (%)\"]],\n        columnOptions: [{\"width\": \"1px\", \"className\": \"index_column\"}],\n        rowsPerPage: 25,\n        helpUrl: \"https://colab.research.google.com/notebooks/data_table.ipynb\",\n        suppressOutputScrolling: true,\n        minimumWidth: undefined,\n      });\n\n      function appendQuickchartButton(parentElement) {\n        let quickchartButtonContainerElement = document.createElement('div');\n        quickchartButtonContainerElement.innerHTML = `\n<div id=\"df-16c3246a-1c6d-41f5-a2f4-8ca8b457dcb2\">\n  <button class=\"colab-df-quickchart\" onclick=\"quickchart('df-16c3246a-1c6d-41f5-a2f4-8ca8b457dcb2')\"\n            title=\"Suggest charts\"\n            style=\"display:none;\">\n    \n<svg xmlns=\"http://www.w3.org/2000/svg\" height=\"24px\"viewBox=\"0 0 24 24\"\n     width=\"24px\">\n    <g>\n        <path d=\"M19 3H5c-1.1 0-2 .9-2 2v14c0 1.1.9 2 2 2h14c1.1 0 2-.9 2-2V5c0-1.1-.9-2-2-2zM9 17H7v-7h2v7zm4 0h-2V7h2v10zm4 0h-2v-4h2v4z\"/>\n    </g>\n</svg>\n  </button>\n  \n<style>\n  .colab-df-quickchart {\n      --bg-color: #E8F0FE;\n      --fill-color: #1967D2;\n      --hover-bg-color: #E2EBFA;\n      --hover-fill-color: #174EA6;\n      --disabled-fill-color: #AAA;\n      --disabled-bg-color: #DDD;\n  }\n\n  [theme=dark] .colab-df-quickchart {\n      --bg-color: #3B4455;\n      --fill-color: #D2E3FC;\n      --hover-bg-color: #434B5C;\n      --hover-fill-color: #FFFFFF;\n      --disabled-bg-color: #3B4455;\n      --disabled-fill-color: #666;\n  }\n\n  .colab-df-quickchart {\n    background-color: var(--bg-color);\n    border: none;\n    border-radius: 50%;\n    cursor: pointer;\n    display: none;\n    fill: var(--fill-color);\n    height: 32px;\n    padding: 0;\n    width: 32px;\n  }\n\n  .colab-df-quickchart:hover {\n    background-color: var(--hover-bg-color);\n    box-shadow: 0 1px 2px rgba(60, 64, 67, 0.3), 0 1px 3px 1px rgba(60, 64, 67, 0.15);\n    fill: var(--button-hover-fill-color);\n  }\n\n  .colab-df-quickchart-complete:disabled,\n  .colab-df-quickchart-complete:disabled:hover {\n    background-color: var(--disabled-bg-color);\n    fill: var(--disabled-fill-color);\n    box-shadow: none;\n  }\n\n  .colab-df-spinner {\n    border: 2px solid var(--fill-color);\n    border-color: transparent;\n    border-bottom-color: var(--fill-color);\n    animation:\n      spin 1s steps(1) infinite;\n  }\n\n  @keyframes spin {\n    0% {\n      border-color: transparent;\n      border-bottom-color: var(--fill-color);\n      border-left-color: var(--fill-color);\n    }\n    20% {\n      border-color: transparent;\n      border-left-color: var(--fill-color);\n      border-top-color: var(--fill-color);\n    }\n    30% {\n      border-color: transparent;\n      border-left-color: var(--fill-color);\n      border-top-color: var(--fill-color);\n      border-right-color: var(--fill-color);\n    }\n    40% {\n      border-color: transparent;\n      border-right-color: var(--fill-color);\n      border-top-color: var(--fill-color);\n    }\n    60% {\n      border-color: transparent;\n      border-right-color: var(--fill-color);\n    }\n    80% {\n      border-color: transparent;\n      border-right-color: var(--fill-color);\n      border-bottom-color: var(--fill-color);\n    }\n    90% {\n      border-color: transparent;\n      border-bottom-color: var(--fill-color);\n    }\n  }\n</style>\n\n  <script>\n    async function quickchart(key) {\n      const quickchartButtonEl =\n        document.querySelector('#' + key + ' button');\n      quickchartButtonEl.disabled = true;  // To prevent multiple clicks.\n      quickchartButtonEl.classList.add('colab-df-spinner');\n      try {\n        const charts = await google.colab.kernel.invokeFunction(\n            'suggestCharts', [key], {});\n      } catch (error) {\n        console.error('Error during call to suggestCharts:', error);\n      }\n      quickchartButtonEl.classList.remove('colab-df-spinner');\n      quickchartButtonEl.classList.add('colab-df-quickchart-complete');\n    }\n    (() => {\n      let quickchartButtonEl =\n        document.querySelector('#df-16c3246a-1c6d-41f5-a2f4-8ca8b457dcb2 button');\n      quickchartButtonEl.style.display =\n        google.colab.kernel.accessAllowed ? 'block' : 'none';\n    })();\n  </script>\n</div>`;\n        parentElement.appendChild(quickchartButtonContainerElement);\n      }\n\n      appendQuickchartButton(table);\n    "
          },
          "metadata": {},
          "execution_count": 27
        }
      ]
    },
    {
      "cell_type": "markdown",
      "source": [
        "## 📥 Збереження таблиці у CSV\n",
        "\n",
        "За бажання, можна зберегти таблицю результатів у csv-файл, що можна у подальшому завантажити чи зберегти у гугл-диску."
      ],
      "metadata": {
        "id": "RmS8GnAc7iEN"
      }
    },
    {
      "cell_type": "code",
      "source": [
        "summary.to_csv(\"reaction_summary.csv\", index=True)"
      ],
      "metadata": {
        "id": "Q54EBn-O7EKv"
      },
      "execution_count": 28,
      "outputs": []
    },
    {
      "cell_type": "markdown",
      "source": [
        "## 📈 Побудова гістограми\n",
        "\n",
        "Гістограма відображає, **як часто зустрічається певне значення часу реакції**.\n",
        "Це дозволяє побачити:\n",
        "\n",
        "- центр розподілу,\n",
        "- наявність \"піків\" (мод),\n",
        "- симетрію або асиметрію,\n",
        "- ширину розкиду.\n",
        "\n",
        "З фізіологічної точки зору, вузький, симетричний розподіл — ознака стабільної ЦНС; широкий або зміщений — прояв нестійкості, втоми або надмірного збудження.\n"
      ],
      "metadata": {
        "id": "mljL4moheqqI"
      }
    },
    {
      "cell_type": "code",
      "source": [
        "sns.histplot(data=df, x='reaction_time', hue='group', bins='sturges', kde=True)\n",
        "plt.title('Гістограма розподілу часу реакції')\n",
        "plt.xlabel('Час реакції (мс)')\n",
        "plt.ylabel('Кількість')\n",
        "plt.grid(True)\n",
        "plt.show()\n"
      ],
      "metadata": {
        "id": "y6sWbgezW6fC",
        "colab": {
          "base_uri": "https://localhost:8080/",
          "height": 472
        },
        "outputId": "e26a57f8-e244-4de1-8088-7790c5021419"
      },
      "execution_count": 29,
      "outputs": [
        {
          "output_type": "display_data",
          "data": {
            "text/plain": [
              "<Figure size 640x480 with 1 Axes>"
            ],
            "image/png": "[encoded data removed]"
          },
          "metadata": {}
        }
      ]
    },
    {
      "cell_type": "markdown",
      "source": [
        "## 📊 Порівняння середніх значень реакції\n",
        "\n",
        "Стовпчиковий графік дозволяє чітко побачити:\n",
        "- Яка з груп має **менший середній час реакції**;\n",
        "- Наскільки **варіабельність** (стандартне відхилення) висока в кожній групі;\n",
        "- Чи **перекриваються** діапазони (якщо похибки не перекриваються — це часто означає значущу різницю).\n",
        "\n",
        "**Похибка (error bar)** на графіку відображає ±1 стандартне відхилення, тобто типову варіацію від середнього значення.\n",
        "\n",
        "Ми також зберігаємо цей графік у форматі PNG, щоб мати змогу вставити його у звіт або презентацію.\n",
        "\n",
        "> 🧾 **Збереження графіка:**  \n",
        "> Графік зберігається під назвою `reaction_time_comparison.png` у кореневій директорії Google Colab.  \n",
        "> Його можна завантажити вручну (натиснувши на іконку папки зліва → правий клік → Download), або автоматично на Google Drive.\n"
      ],
      "metadata": {
        "id": "V_oQhNu08Z_u"
      }
    },
    {
      "cell_type": "code",
      "source": [
        "# Побудова стовпчикового графіка середнього часу реакції з похибкою (std)\n",
        "means = df.groupby(\"group\")[\"reaction_time\"].mean()\n",
        "stds = df.groupby(\"group\")[\"reaction_time\"].std()\n",
        "\n",
        "plt.figure(figsize=(6, 5))\n",
        "plt.bar(means.index, means.values, yerr=stds.values, capsize=10, color=[\"skyblue\", \"salmon\"])\n",
        "plt.ylabel(\"Середній час реакції (мс)\")\n",
        "plt.title(\"Порівняння середніх значень часу реакції з похибками\")\n",
        "plt.grid(True)\n",
        "\n",
        "# 💾 Збереження графіка\n",
        "plt.savefig(\"reaction_time_comparison.png\", dpi=300)\n",
        "plt.show()\n"
      ],
      "metadata": {
        "colab": {
          "base_uri": "https://localhost:8080/",
          "height": 468
        },
        "id": "-9teYcZQ759Q",
        "outputId": "a37fdcc0-7915-432c-f3ae-5480c6eaadb9"
      },
      "execution_count": 30,
      "outputs": [
        {
          "output_type": "display_data",
          "data": {
            "text/plain": [
              "<Figure size 600x500 with 1 Axes>"
            ],
            "image/png": "[encoded data removed]"
          },
          "metadata": {}
        }
      ]
    },
    {
      "cell_type": "markdown",
      "source": [
        "## ⚖️ Порівняння груп: t-тест Стьюдента\n",
        "\n",
        "Щоб дізнатись, чи **відрізняються групи A і B за середнім часом реакції**, ми використовуємо t-тест Стьюдента для незалежних вибірок.\n",
        "\n",
        "Цей тест перевіряє гіпотезу:\n",
        "- **H₀:** середні значення рівні ($\\mu_A = \\mu_B$)\n",
        "- **H₁:** середні значення відмінні ($\\mu_A \\neq \\mu_B$)\n",
        "\n",
        "### Формула t-критерію:\n",
        "$$ t = \\frac{\\bar{x}_1 - \\bar{x}_2}{\\sqrt{\\frac{s_1^2}{n_1} + \\frac{s_2^2}{n_2}}} $$\n",
        "\n",
        "де:\n",
        "- $\\bar{x}_1$, $\\bar{x}_2$ — середні значення в групах A і B,\n",
        "- $s_1^2$, $s_2^2$ — дисперсії,\n",
        "- $n_1$, $n_2$ — обсяги вибірок.\n",
        "\n",
        "Ми також отримаємо *p-value*, яке вказує, наскільки малоймовірним є отриманий результат при H₀.\n",
        "Якщо **p < 0.05**, вважається, що різниця є **статистично значущою**.\n"
      ],
      "metadata": {
        "id": "8-6kiUyCe6qO"
      }
    },
    {
      "cell_type": "code",
      "source": [
        "t_stat, p_value = stats.ttest_ind(group_A, group_B)\n",
        "print(f\"t = {t_stat:.2f}, p = {p_value:.5f}\")"
      ],
      "metadata": {
        "id": "TfihVJbEXe4R",
        "colab": {
          "base_uri": "https://localhost:8080/"
        },
        "outputId": "02ce50dd-f8dd-4508-b447-fb407ba8d5e7"
      },
      "execution_count": 33,
      "outputs": [
        {
          "output_type": "stream",
          "name": "stdout",
          "text": [
            "t = -3.99, p = 0.00013\n"
          ]
        }
      ]
    },
    {
      "cell_type": "markdown",
      "source": [
        "## ✅ Висновок\n",
        "\n",
        "Група A має **менший середній час реакції** та **нижчу варіабельність**, що свідчить про більш стабільну нервову регуляцію.\n",
        "\n",
        "Статистичний тест підтверджує, що ця різниця не випадкова (**p < 0.05**).  \n",
        "Інструменти Python і Google Colab ефективно підтримують аналіз та візуалізацію таких біологічних даних.\n"
      ],
      "metadata": {
        "id": "s_QO7BBsfdGI"
      }
    }
  ]
}